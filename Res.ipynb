{
 "cells": [
  {
   "cell_type": "code",
   "execution_count": 1,
   "metadata": {},
   "outputs": [],
   "source": [
    "from PIL import Image, ImageDraw"
   ]
  },
  {
   "cell_type": "code",
   "execution_count": 67,
   "metadata": {},
   "outputs": [
    {
     "name": "stdout",
     "output_type": "stream",
     "text": [
      "Type name of picture without .png:\n",
      "Test\n"
     ]
    }
   ],
   "source": [
    "print (\"Type name of picture without .png:\")\n",
    "name_of_image = str(input())"
   ]
  },
  {
   "cell_type": "code",
   "execution_count": 68,
   "metadata": {},
   "outputs": [
    {
     "name": "stdout",
     "output_type": "stream",
     "text": [
      "Wrong name. Type name of picture without .png:\n",
      "R\n",
      "Wrong name. Type name of picture without .png:\n",
      "1\n"
     ]
    }
   ],
   "source": [
    "while True:\n",
    "    try:\n",
    "        image = Image.open(name_of_image + \".png\") \n",
    "        break\n",
    "    except:\n",
    "        print (\"Wrong name. Type name of picture without .png:\")\n",
    "        name_of_image = str(input())\n",
    "\n",
    "width  = image.size[0] \n",
    "height = image.size[1] \n",
    "\n",
    "pixels = image.load() "
   ]
  },
  {
   "cell_type": "markdown",
   "metadata": {},
   "source": [
    "# DFS"
   ]
  },
  {
   "cell_type": "code",
   "execution_count": 61,
   "metadata": {},
   "outputs": [],
   "source": [
    "def Init (arr, max_x, max_y):\n",
    "    for i in range (max_x):\n",
    "        arr.append ([False] * max_y)"
   ]
  },
  {
   "cell_type": "code",
   "execution_count": 62,
   "metadata": {},
   "outputs": [],
   "source": [
    "def Clear (arr):\n",
    "    for i in range (len(arr)):\n",
    "        for k in range (len(arr[0])):\n",
    "            arr[i][k] = False"
   ]
  },
  {
   "cell_type": "code",
   "execution_count": 38,
   "metadata": {},
   "outputs": [],
   "source": [
    "visited = []\n",
    "Init (visited, width, height)\n",
    "\n",
    "now_visited = []\n",
    "Init (now_visited, width, height)"
   ]
  },
  {
   "cell_type": "code",
   "execution_count": 6,
   "metadata": {},
   "outputs": [],
   "source": [
    "def Is_Black (x, y):\n",
    "    return pixels[x, y] == (0, 0, 0)"
   ]
  },
  {
   "cell_type": "code",
   "execution_count": 7,
   "metadata": {},
   "outputs": [],
   "source": [
    "def If_In (x, y, max_x, max_y):\n",
    "    return x >= 0 and x <= max_x and y >= 0 and y <= max_y"
   ]
  },
  {
   "cell_type": "code",
   "execution_count": 8,
   "metadata": {},
   "outputs": [],
   "source": [
    "def Neighbours (x, y):\n",
    "    ways = [-1, 0, 1]\n",
    "    res = []\n",
    "    for i in ways:\n",
    "        for k in ways:\n",
    "            if (i != k):\n",
    "                if If_In (x + i, y + k, width - 1, height - 1):\n",
    "                    res.append ([x + i, y + k])\n",
    "                    \n",
    "    return res"
   ]
  },
  {
   "cell_type": "code",
   "execution_count": 9,
   "metadata": {},
   "outputs": [],
   "source": [
    "def Loop (x, y):\n",
    "    now_visited[x][y] = True\n",
    "    neighbours = Neighbours (x, y)\n",
    "    \n",
    "    for elem in neighbours:\n",
    "        if now_visited[elem[0]][elem[1]] == False and Is_Black (elem[0], elem[1]):\n",
    "            Loop(elem[0], elem[1])"
   ]
  },
  {
   "cell_type": "code",
   "execution_count": 29,
   "metadata": {},
   "outputs": [],
   "source": [
    "def DFS (x, y):\n",
    "    \n",
    "    Clear (now_visited)\n",
    "    \n",
    "    visited[x][y] = True\n",
    "    \n",
    "    Loop (x, y)\n",
    "    \n",
    "    for i in range (len(now_visited)):\n",
    "        for k in range (len(now_visited[0])):\n",
    "            if now_visited[i][k] == True:\n",
    "                visited[i][k] = True\n",
    "                \n",
    "    return now_visited\n",
    "                "
   ]
  },
  {
   "cell_type": "markdown",
   "metadata": {},
   "source": [
    "# Строим прямые"
   ]
  },
  {
   "cell_type": "code",
   "execution_count": 30,
   "metadata": {},
   "outputs": [],
   "source": [
    "lines = []  # lines[i] = [k, l], where y = kx + l"
   ]
  },
  {
   "cell_type": "code",
   "execution_count": 35,
   "metadata": {},
   "outputs": [],
   "source": [
    "def Find_Top_Bot_Point (area): # returns coords of top and bottom point in area\n",
    "    top = -1\n",
    "    bot = -1\n",
    "    \n",
    "    for i in range (len(area[0])):\n",
    "        for k in range (len(area)):\n",
    "            if area[k][i] == True:\n",
    "                bot = i\n",
    "                \n",
    "                if top == -1:\n",
    "                    top = i\n",
    "                    \n",
    "    if top == -1 or bot == -1:\n",
    "        print (\"Wring area\")\n",
    "        # raise Exception (...)\n",
    "        \n",
    "    return top, bot"
   ]
  },
  {
   "cell_type": "code",
   "execution_count": 36,
   "metadata": {},
   "outputs": [],
   "source": [
    "def Find_Left_Right_Point (area): # returns coords of left and right point in area\n",
    "    left = -1\n",
    "    right = -1\n",
    "    \n",
    "    for i in range (len(area)):\n",
    "        for k in range (len(area[0])):\n",
    "            if area[i][k] == True:\n",
    "                right = i\n",
    "                \n",
    "                if left == -1:\n",
    "                    left = i\n",
    "                    \n",
    "    if top == -1 or bot == -1:\n",
    "        print (\"Wring area\")\n",
    "        # raise Exception (...)\n",
    "                    \n",
    "    return left, right"
   ]
  },
  {
   "cell_type": "code",
   "execution_count": 40,
   "metadata": {},
   "outputs": [],
   "source": [
    "def Make_Line (area):\n",
    "    top, bot = Find_Top_Bot_Point (area)\n",
    "    left, right = Find_Left_Right_Point (area)\n",
    "    \n",
    "    lines.append () # we have a quadrangle covering the figure, we need to find the line along which the figure was built \n",
    "    \n",
    "#     print (\"POINTS:\\n\\t top = \", top, \"\\n\\t left = \", left, \"\\n\\t right = \", right, \"\\n\\t bot = \", bot)"
   ]
  },
  {
   "cell_type": "code",
   "execution_count": 41,
   "metadata": {},
   "outputs": [],
   "source": [
    "for i in range (width):\n",
    "    for k in range (height):\n",
    "        if Is_Black(i, k) and visited[i][k] == False:\n",
    "            area = DFS(i, k)\n",
    "            \n",
    "            Make_Line (area)"
   ]
  },
  {
   "cell_type": "markdown",
   "metadata": {},
   "source": [
    "# Находим ответ"
   ]
  },
  {
   "cell_type": "code",
   "execution_count": 43,
   "metadata": {},
   "outputs": [],
   "source": [
    "def Is_Zero (x, y):\n",
    "    return abs(x - y) < 0.01"
   ]
  },
  {
   "cell_type": "code",
   "execution_count": 64,
   "metadata": {},
   "outputs": [],
   "source": [
    "def Answer (arr_of_dif_angle):\n",
    "    if len(arr_of_dif_angle) == 2: # quadrangle\n",
    "        top, bot = Find_Top_Bot_Point (visited)\n",
    "        left, right = Find_Left_Right_Point (visited)\n",
    "    \n",
    "        if abs(top - bot) == abs(left - right):\n",
    "            print (\"Square, side = \", abs(left - right))\n",
    "        else:\n",
    "            print (\"Rectangle, \\n\\t side1 = \", abs(top - bot), \" \\n\\t side2 = \", abs(left - right))\n",
    "            \n",
    "    elif len(arr_of_dif_angle) == 3: # triangle\n",
    "        angle1 = 0\n",
    "        angle2 = 0\n",
    "        side = 0\n",
    "        print (\"Triangle, \\n\\t angle1 = \", angle1, \" \\n\\t angle2 = \", angle2, \" \\n\\t side = \", side)\n",
    "        \n",
    "    elif len(arr_of_dif_angle) > 3:\n",
    "        top, bot = Find_Top_Bot_Point (visited)\n",
    "        print (\"Circle, radius = \", abs(top - bot) / 2)\n",
    "        \n",
    "    else: # error\n",
    "        print (\"I can't recognize the figure(\")"
   ]
  },
  {
   "cell_type": "code",
   "execution_count": 55,
   "metadata": {},
   "outputs": [
    {
     "name": "stdout",
     "output_type": "stream",
     "text": [
      "Circle, radius =  156.0\n"
     ]
    }
   ],
   "source": [
    "arr_of_dif_angle = []\n",
    "\n",
    "for i in lines:\n",
    "    for k in cnt_of_dif_angle:\n",
    "        if not Is_Zero (i, k):\n",
    "            arr_of_dif_angle.append (i[0])\n",
    "            \n",
    "Answer(arr_of_dif_angle)"
   ]
  },
  {
   "cell_type": "code",
   "execution_count": null,
   "metadata": {},
   "outputs": [],
   "source": []
  }
 ],
 "metadata": {
  "kernelspec": {
   "display_name": "Python 3",
   "language": "python",
   "name": "python3"
  },
  "language_info": {
   "codemirror_mode": {
    "name": "ipython",
    "version": 3
   },
   "file_extension": ".py",
   "mimetype": "text/x-python",
   "name": "python",
   "nbconvert_exporter": "python",
   "pygments_lexer": "ipython3",
   "version": "3.8.5"
  }
 },
 "nbformat": 4,
 "nbformat_minor": 4
}
