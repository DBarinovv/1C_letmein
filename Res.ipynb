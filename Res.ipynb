{
 "cells": [
  {
   "cell_type": "code",
   "execution_count": 1,
   "metadata": {},
   "outputs": [],
   "source": [
    "from PIL import Image, ImageDraw #Подключим необходимые библиотеки. "
   ]
  },
  {
   "cell_type": "code",
   "execution_count": 2,
   "metadata": {},
   "outputs": [],
   "source": [
    "image = Image.open(\"1.png\") \n",
    "width = image.size[0] \n",
    "height = image.size[1] \n",
    "pixels = image.load() "
   ]
  },
  {
   "cell_type": "code",
   "execution_count": 3,
   "metadata": {},
   "outputs": [],
   "source": [
    "draw = ImageDraw.Draw(image) #Создаем инструмент для рисования. "
   ]
  },
  {
   "cell_type": "code",
   "execution_count": 15,
   "metadata": {},
   "outputs": [],
   "source": [
    "image.save(\"1_res.png\", \"PNG\")"
   ]
  },
  {
   "cell_type": "code",
   "execution_count": 62,
   "metadata": {},
   "outputs": [],
   "source": [
    "del draw"
   ]
  },
  {
   "cell_type": "code",
   "execution_count": 4,
   "metadata": {},
   "outputs": [],
   "source": [
    "def Init (arr, max_x, max_y):\n",
    "    for i in range(max_x):\n",
    "        arr.append ([False] * max_y)"
   ]
  },
  {
   "cell_type": "code",
   "execution_count": 5,
   "metadata": {},
   "outputs": [],
   "source": [
    "visited = []\n",
    "Init (visited, width, height)\n",
    "\n",
    "our_visited = []\n",
    "Init (our_visited, width, height)"
   ]
  },
  {
   "cell_type": "code",
   "execution_count": 14,
   "metadata": {},
   "outputs": [],
   "source": [
    "# print (len(visited))\n",
    "# print (width)       \n",
    "# print (len(visited[0]))\n",
    "# print (height)\n",
    "\n",
    "for i in range(width):\n",
    "    for k in range(height):\n",
    "        if visited[i][k] == True:\n",
    "            draw.point((i, k), (0, 255, 0))"
   ]
  },
  {
   "cell_type": "code",
   "execution_count": 6,
   "metadata": {},
   "outputs": [],
   "source": [
    "def Is_Black (x, y):\n",
    "    return pixels[x, y] == (0, 0, 0)"
   ]
  },
  {
   "cell_type": "code",
   "execution_count": 7,
   "metadata": {},
   "outputs": [],
   "source": [
    "def If_In (x, y, max_x, max_y):\n",
    "    return x >= 0 and x <= max_x and y >= 0 and y <= max_y"
   ]
  },
  {
   "cell_type": "code",
   "execution_count": 8,
   "metadata": {},
   "outputs": [],
   "source": [
    "def Neighbours (x, y):\n",
    "    ways = [-1, 0, 1]\n",
    "    res = []\n",
    "    for i in ways:\n",
    "        for k in ways:\n",
    "            if (i != k):\n",
    "                if If_In (x + i, y + k, width - 1, height - 1):\n",
    "                    res.append ([x + i, y + k])\n",
    "                    \n",
    "    return res"
   ]
  },
  {
   "cell_type": "code",
   "execution_count": 9,
   "metadata": {},
   "outputs": [],
   "source": [
    "def Loop (x, y):\n",
    "    our_visited[x][y] = True\n",
    "    neighbours = Neighbours (x, y)\n",
    "    \n",
    "    for elem in neighbours:\n",
    "        if our_visited[elem[0]][elem[1]] == False and Is_Black (elem[0], elem[1]):\n",
    "            Loop(elem[0], elem[1])"
   ]
  },
  {
   "cell_type": "code",
   "execution_count": 10,
   "metadata": {},
   "outputs": [],
   "source": [
    "def DFS (x, y):\n",
    "    \n",
    "    Init (our_visited, width, height)\n",
    "    \n",
    "    visited[x][y] = True\n",
    "    \n",
    "    Loop (x, y)\n",
    "    \n",
    "    for i in range (len(our_visited)):\n",
    "        for k in range (len(our_visited[0])):\n",
    "            if our_visited[i][k] == True:\n",
    "                visited[i][k] = True\n",
    "                "
   ]
  },
  {
   "cell_type": "code",
   "execution_count": 11,
   "metadata": {},
   "outputs": [],
   "source": [
    "for i in range(width):\n",
    "    for k in range(height):\n",
    "        if Is_Black(i, k) and visited[i][k] == False:\n",
    "            DFS(i, k)"
   ]
  },
  {
   "cell_type": "code",
   "execution_count": null,
   "metadata": {},
   "outputs": [],
   "source": []
  }
 ],
 "metadata": {
  "kernelspec": {
   "display_name": "Python 3",
   "language": "python",
   "name": "python3"
  },
  "language_info": {
   "codemirror_mode": {
    "name": "ipython",
    "version": 3
   },
   "file_extension": ".py",
   "mimetype": "text/x-python",
   "name": "python",
   "nbconvert_exporter": "python",
   "pygments_lexer": "ipython3",
   "version": "3.8.5"
  }
 },
 "nbformat": 4,
 "nbformat_minor": 4
}
